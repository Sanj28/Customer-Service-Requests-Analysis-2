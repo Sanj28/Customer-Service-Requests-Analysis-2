{
 "cells": [
  {
   "cell_type": "code",
   "execution_count": 50,
   "id": "7ed46598",
   "metadata": {},
   "outputs": [],
   "source": [
    "import numpy as np\n",
    "import pandas as pd\n",
    "import matplotlib.pyplot as plt"
   ]
  },
  {
   "cell_type": "code",
   "execution_count": 4,
   "id": "a0269381",
   "metadata": {},
   "outputs": [
    {
     "name": "stderr",
     "output_type": "stream",
     "text": [
      "C:\\Users\\Sanjana\\AppData\\Local\\Temp\\ipykernel_8252\\3324083792.py:1: DtypeWarning: Columns (48,49) have mixed types. Specify dtype option on import or set low_memory=False.\n",
      "  df=pd.read_csv('311_Service_Requests_from_2010_to_Present_2.csv')\n"
     ]
    }
   ],
   "source": [
    "# 1. Import a 311 NYC service request.\n",
    "df=pd.read_csv('311_Service_Requests_from_2010_to_Present_2.csv')"
   ]
  },
  {
   "cell_type": "code",
   "execution_count": 93,
   "id": "4e3e5e45",
   "metadata": {},
   "outputs": [],
   "source": [
    "# 2. create a new column ‘Request_Closing_Time’ as the time elapsed between request creation and request closing.\n",
    "df['Created Date']= pd.to_datetime(df['Created Date'])\n",
    "df['Closed Date']= pd.to_datetime(df['Closed Date'])\n",
    "df['Request_Closing_Time']= df['Closed Date'].values-df['Created Date'].values"
   ]
  },
  {
   "cell_type": "code",
   "execution_count": 125,
   "id": "f9465421",
   "metadata": {},
   "outputs": [
    {
     "data": {
      "text/html": [
       "<div>\n",
       "<style scoped>\n",
       "    .dataframe tbody tr th:only-of-type {\n",
       "        vertical-align: middle;\n",
       "    }\n",
       "\n",
       "    .dataframe tbody tr th {\n",
       "        vertical-align: top;\n",
       "    }\n",
       "\n",
       "    .dataframe thead th {\n",
       "        text-align: right;\n",
       "    }\n",
       "</style>\n",
       "<table border=\"1\" class=\"dataframe\">\n",
       "  <thead>\n",
       "    <tr style=\"text-align: right;\">\n",
       "      <th></th>\n",
       "      <th>Unique Key</th>\n",
       "      <th>Created Date</th>\n",
       "      <th>Closed Date</th>\n",
       "      <th>Agency</th>\n",
       "      <th>Agency Name</th>\n",
       "      <th>Complaint Type</th>\n",
       "      <th>Descriptor</th>\n",
       "      <th>Location Type</th>\n",
       "      <th>Incident Zip</th>\n",
       "      <th>Incident Address</th>\n",
       "      <th>...</th>\n",
       "      <th>Bridge Highway Segment</th>\n",
       "      <th>Garage Lot Name</th>\n",
       "      <th>Ferry Direction</th>\n",
       "      <th>Ferry Terminal Name</th>\n",
       "      <th>Latitude</th>\n",
       "      <th>Longitude</th>\n",
       "      <th>Location</th>\n",
       "      <th>Request_Closing_Time</th>\n",
       "      <th>Request_Closing_Time_Hours</th>\n",
       "      <th>Request_Closing_Time_Seconds</th>\n",
       "    </tr>\n",
       "  </thead>\n",
       "  <tbody>\n",
       "    <tr>\n",
       "      <th>0</th>\n",
       "      <td>32310363</td>\n",
       "      <td>2015-12-31 23:59:45</td>\n",
       "      <td>2016-01-01 00:55:00</td>\n",
       "      <td>NYPD</td>\n",
       "      <td>New York City Police Department</td>\n",
       "      <td>Noise - Street/Sidewalk</td>\n",
       "      <td>Loud Music/Party</td>\n",
       "      <td>Street/Sidewalk</td>\n",
       "      <td>10034.0</td>\n",
       "      <td>71 VERMILYEA AVENUE</td>\n",
       "      <td>...</td>\n",
       "      <td>NaN</td>\n",
       "      <td>NaN</td>\n",
       "      <td>NaN</td>\n",
       "      <td>NaN</td>\n",
       "      <td>40.865682</td>\n",
       "      <td>-73.923501</td>\n",
       "      <td>(40.86568153633767, -73.92350095571744)</td>\n",
       "      <td>0 days 00:55:15</td>\n",
       "      <td>1.0</td>\n",
       "      <td>3315.0</td>\n",
       "    </tr>\n",
       "    <tr>\n",
       "      <th>1</th>\n",
       "      <td>32309934</td>\n",
       "      <td>2015-12-31 23:59:44</td>\n",
       "      <td>2016-01-01 01:26:00</td>\n",
       "      <td>NYPD</td>\n",
       "      <td>New York City Police Department</td>\n",
       "      <td>Blocked Driveway</td>\n",
       "      <td>No Access</td>\n",
       "      <td>Street/Sidewalk</td>\n",
       "      <td>11105.0</td>\n",
       "      <td>27-07 23 AVENUE</td>\n",
       "      <td>...</td>\n",
       "      <td>NaN</td>\n",
       "      <td>NaN</td>\n",
       "      <td>NaN</td>\n",
       "      <td>NaN</td>\n",
       "      <td>40.775945</td>\n",
       "      <td>-73.915094</td>\n",
       "      <td>(40.775945312321085, -73.91509393898605)</td>\n",
       "      <td>0 days 01:26:16</td>\n",
       "      <td>2.0</td>\n",
       "      <td>5176.0</td>\n",
       "    </tr>\n",
       "    <tr>\n",
       "      <th>2</th>\n",
       "      <td>32309159</td>\n",
       "      <td>2015-12-31 23:59:29</td>\n",
       "      <td>2016-01-01 04:51:00</td>\n",
       "      <td>NYPD</td>\n",
       "      <td>New York City Police Department</td>\n",
       "      <td>Blocked Driveway</td>\n",
       "      <td>No Access</td>\n",
       "      <td>Street/Sidewalk</td>\n",
       "      <td>10458.0</td>\n",
       "      <td>2897 VALENTINE AVENUE</td>\n",
       "      <td>...</td>\n",
       "      <td>NaN</td>\n",
       "      <td>NaN</td>\n",
       "      <td>NaN</td>\n",
       "      <td>NaN</td>\n",
       "      <td>40.870325</td>\n",
       "      <td>-73.888525</td>\n",
       "      <td>(40.870324522111424, -73.88852464418646)</td>\n",
       "      <td>0 days 04:51:31</td>\n",
       "      <td>5.0</td>\n",
       "      <td>17491.0</td>\n",
       "    </tr>\n",
       "    <tr>\n",
       "      <th>3</th>\n",
       "      <td>32305098</td>\n",
       "      <td>2015-12-31 23:57:46</td>\n",
       "      <td>2016-01-01 07:43:00</td>\n",
       "      <td>NYPD</td>\n",
       "      <td>New York City Police Department</td>\n",
       "      <td>Illegal Parking</td>\n",
       "      <td>Commercial Overnight Parking</td>\n",
       "      <td>Street/Sidewalk</td>\n",
       "      <td>10461.0</td>\n",
       "      <td>2940 BAISLEY AVENUE</td>\n",
       "      <td>...</td>\n",
       "      <td>NaN</td>\n",
       "      <td>NaN</td>\n",
       "      <td>NaN</td>\n",
       "      <td>NaN</td>\n",
       "      <td>40.835994</td>\n",
       "      <td>-73.828379</td>\n",
       "      <td>(40.83599404683083, -73.82837939584206)</td>\n",
       "      <td>0 days 07:45:14</td>\n",
       "      <td>8.0</td>\n",
       "      <td>27914.0</td>\n",
       "    </tr>\n",
       "    <tr>\n",
       "      <th>4</th>\n",
       "      <td>32306529</td>\n",
       "      <td>2015-12-31 23:56:58</td>\n",
       "      <td>2016-01-01 03:24:00</td>\n",
       "      <td>NYPD</td>\n",
       "      <td>New York City Police Department</td>\n",
       "      <td>Illegal Parking</td>\n",
       "      <td>Blocked Sidewalk</td>\n",
       "      <td>Street/Sidewalk</td>\n",
       "      <td>11373.0</td>\n",
       "      <td>87-14 57 ROAD</td>\n",
       "      <td>...</td>\n",
       "      <td>NaN</td>\n",
       "      <td>NaN</td>\n",
       "      <td>NaN</td>\n",
       "      <td>NaN</td>\n",
       "      <td>40.733060</td>\n",
       "      <td>-73.874170</td>\n",
       "      <td>(40.733059618956815, -73.87416975810375)</td>\n",
       "      <td>0 days 03:27:02</td>\n",
       "      <td>4.0</td>\n",
       "      <td>12422.0</td>\n",
       "    </tr>\n",
       "    <tr>\n",
       "      <th>...</th>\n",
       "      <td>...</td>\n",
       "      <td>...</td>\n",
       "      <td>...</td>\n",
       "      <td>...</td>\n",
       "      <td>...</td>\n",
       "      <td>...</td>\n",
       "      <td>...</td>\n",
       "      <td>...</td>\n",
       "      <td>...</td>\n",
       "      <td>...</td>\n",
       "      <td>...</td>\n",
       "      <td>...</td>\n",
       "      <td>...</td>\n",
       "      <td>...</td>\n",
       "      <td>...</td>\n",
       "      <td>...</td>\n",
       "      <td>...</td>\n",
       "      <td>...</td>\n",
       "      <td>...</td>\n",
       "      <td>...</td>\n",
       "      <td>...</td>\n",
       "    </tr>\n",
       "    <tr>\n",
       "      <th>300693</th>\n",
       "      <td>30281872</td>\n",
       "      <td>2015-03-29 00:33:41</td>\n",
       "      <td>NaT</td>\n",
       "      <td>NYPD</td>\n",
       "      <td>New York City Police Department</td>\n",
       "      <td>Noise - Commercial</td>\n",
       "      <td>Loud Music/Party</td>\n",
       "      <td>Club/Bar/Restaurant</td>\n",
       "      <td>NaN</td>\n",
       "      <td>CRESCENT AVENUE</td>\n",
       "      <td>...</td>\n",
       "      <td>NaN</td>\n",
       "      <td>NaN</td>\n",
       "      <td>NaN</td>\n",
       "      <td>NaN</td>\n",
       "      <td>NaN</td>\n",
       "      <td>NaN</td>\n",
       "      <td>NaN</td>\n",
       "      <td>NaT</td>\n",
       "      <td>NaN</td>\n",
       "      <td>NaN</td>\n",
       "    </tr>\n",
       "    <tr>\n",
       "      <th>300694</th>\n",
       "      <td>30281230</td>\n",
       "      <td>2015-03-29 00:33:28</td>\n",
       "      <td>2015-03-29 02:33:59</td>\n",
       "      <td>NYPD</td>\n",
       "      <td>New York City Police Department</td>\n",
       "      <td>Blocked Driveway</td>\n",
       "      <td>Partial Access</td>\n",
       "      <td>Street/Sidewalk</td>\n",
       "      <td>11418.0</td>\n",
       "      <td>100-17 87 AVENUE</td>\n",
       "      <td>...</td>\n",
       "      <td>NaN</td>\n",
       "      <td>NaN</td>\n",
       "      <td>NaN</td>\n",
       "      <td>NaN</td>\n",
       "      <td>40.694077</td>\n",
       "      <td>-73.846087</td>\n",
       "      <td>(40.69407728322387, -73.8460866160573)</td>\n",
       "      <td>0 days 02:00:31</td>\n",
       "      <td>3.0</td>\n",
       "      <td>7231.0</td>\n",
       "    </tr>\n",
       "    <tr>\n",
       "      <th>300695</th>\n",
       "      <td>30283424</td>\n",
       "      <td>2015-03-29 00:33:03</td>\n",
       "      <td>2015-03-29 03:40:20</td>\n",
       "      <td>NYPD</td>\n",
       "      <td>New York City Police Department</td>\n",
       "      <td>Noise - Commercial</td>\n",
       "      <td>Loud Music/Party</td>\n",
       "      <td>Club/Bar/Restaurant</td>\n",
       "      <td>11206.0</td>\n",
       "      <td>162 THROOP AVENUE</td>\n",
       "      <td>...</td>\n",
       "      <td>NaN</td>\n",
       "      <td>NaN</td>\n",
       "      <td>NaN</td>\n",
       "      <td>NaN</td>\n",
       "      <td>40.699590</td>\n",
       "      <td>-73.944234</td>\n",
       "      <td>(40.69959035300927, -73.94423377144169)</td>\n",
       "      <td>0 days 03:07:17</td>\n",
       "      <td>4.0</td>\n",
       "      <td>11237.0</td>\n",
       "    </tr>\n",
       "    <tr>\n",
       "      <th>300696</th>\n",
       "      <td>30280004</td>\n",
       "      <td>2015-03-29 00:33:02</td>\n",
       "      <td>2015-03-29 04:38:35</td>\n",
       "      <td>NYPD</td>\n",
       "      <td>New York City Police Department</td>\n",
       "      <td>Noise - Commercial</td>\n",
       "      <td>Loud Music/Party</td>\n",
       "      <td>Club/Bar/Restaurant</td>\n",
       "      <td>10461.0</td>\n",
       "      <td>3151 EAST TREMONT AVENUE</td>\n",
       "      <td>...</td>\n",
       "      <td>NaN</td>\n",
       "      <td>NaN</td>\n",
       "      <td>NaN</td>\n",
       "      <td>NaN</td>\n",
       "      <td>40.837708</td>\n",
       "      <td>-73.834587</td>\n",
       "      <td>(40.8377075854206, -73.83458731019586)</td>\n",
       "      <td>0 days 04:05:33</td>\n",
       "      <td>5.0</td>\n",
       "      <td>14733.0</td>\n",
       "    </tr>\n",
       "    <tr>\n",
       "      <th>300697</th>\n",
       "      <td>30281825</td>\n",
       "      <td>2015-03-29 00:33:01</td>\n",
       "      <td>2015-03-29 04:41:50</td>\n",
       "      <td>NYPD</td>\n",
       "      <td>New York City Police Department</td>\n",
       "      <td>Noise - Commercial</td>\n",
       "      <td>Loud Music/Party</td>\n",
       "      <td>Store/Commercial</td>\n",
       "      <td>10036.0</td>\n",
       "      <td>251 WEST 48 STREET</td>\n",
       "      <td>...</td>\n",
       "      <td>NaN</td>\n",
       "      <td>NaN</td>\n",
       "      <td>NaN</td>\n",
       "      <td>NaN</td>\n",
       "      <td>40.760583</td>\n",
       "      <td>-73.985922</td>\n",
       "      <td>(40.76058322950115, -73.98592204392392)</td>\n",
       "      <td>0 days 04:08:49</td>\n",
       "      <td>5.0</td>\n",
       "      <td>14929.0</td>\n",
       "    </tr>\n",
       "  </tbody>\n",
       "</table>\n",
       "<p>300698 rows × 56 columns</p>\n",
       "</div>"
      ],
      "text/plain": [
       "        Unique Key        Created Date         Closed Date Agency  \\\n",
       "0         32310363 2015-12-31 23:59:45 2016-01-01 00:55:00   NYPD   \n",
       "1         32309934 2015-12-31 23:59:44 2016-01-01 01:26:00   NYPD   \n",
       "2         32309159 2015-12-31 23:59:29 2016-01-01 04:51:00   NYPD   \n",
       "3         32305098 2015-12-31 23:57:46 2016-01-01 07:43:00   NYPD   \n",
       "4         32306529 2015-12-31 23:56:58 2016-01-01 03:24:00   NYPD   \n",
       "...            ...                 ...                 ...    ...   \n",
       "300693    30281872 2015-03-29 00:33:41                 NaT   NYPD   \n",
       "300694    30281230 2015-03-29 00:33:28 2015-03-29 02:33:59   NYPD   \n",
       "300695    30283424 2015-03-29 00:33:03 2015-03-29 03:40:20   NYPD   \n",
       "300696    30280004 2015-03-29 00:33:02 2015-03-29 04:38:35   NYPD   \n",
       "300697    30281825 2015-03-29 00:33:01 2015-03-29 04:41:50   NYPD   \n",
       "\n",
       "                            Agency Name           Complaint Type  \\\n",
       "0       New York City Police Department  Noise - Street/Sidewalk   \n",
       "1       New York City Police Department         Blocked Driveway   \n",
       "2       New York City Police Department         Blocked Driveway   \n",
       "3       New York City Police Department          Illegal Parking   \n",
       "4       New York City Police Department          Illegal Parking   \n",
       "...                                 ...                      ...   \n",
       "300693  New York City Police Department       Noise - Commercial   \n",
       "300694  New York City Police Department         Blocked Driveway   \n",
       "300695  New York City Police Department       Noise - Commercial   \n",
       "300696  New York City Police Department       Noise - Commercial   \n",
       "300697  New York City Police Department       Noise - Commercial   \n",
       "\n",
       "                          Descriptor        Location Type  Incident Zip  \\\n",
       "0                   Loud Music/Party      Street/Sidewalk       10034.0   \n",
       "1                          No Access      Street/Sidewalk       11105.0   \n",
       "2                          No Access      Street/Sidewalk       10458.0   \n",
       "3       Commercial Overnight Parking      Street/Sidewalk       10461.0   \n",
       "4                   Blocked Sidewalk      Street/Sidewalk       11373.0   \n",
       "...                              ...                  ...           ...   \n",
       "300693              Loud Music/Party  Club/Bar/Restaurant           NaN   \n",
       "300694                Partial Access      Street/Sidewalk       11418.0   \n",
       "300695              Loud Music/Party  Club/Bar/Restaurant       11206.0   \n",
       "300696              Loud Music/Party  Club/Bar/Restaurant       10461.0   \n",
       "300697              Loud Music/Party     Store/Commercial       10036.0   \n",
       "\n",
       "                Incident Address  ... Bridge Highway Segment Garage Lot Name  \\\n",
       "0            71 VERMILYEA AVENUE  ...                    NaN             NaN   \n",
       "1                27-07 23 AVENUE  ...                    NaN             NaN   \n",
       "2          2897 VALENTINE AVENUE  ...                    NaN             NaN   \n",
       "3            2940 BAISLEY AVENUE  ...                    NaN             NaN   \n",
       "4                  87-14 57 ROAD  ...                    NaN             NaN   \n",
       "...                          ...  ...                    ...             ...   \n",
       "300693           CRESCENT AVENUE  ...                    NaN             NaN   \n",
       "300694          100-17 87 AVENUE  ...                    NaN             NaN   \n",
       "300695         162 THROOP AVENUE  ...                    NaN             NaN   \n",
       "300696  3151 EAST TREMONT AVENUE  ...                    NaN             NaN   \n",
       "300697        251 WEST 48 STREET  ...                    NaN             NaN   \n",
       "\n",
       "       Ferry Direction Ferry Terminal Name   Latitude  Longitude  \\\n",
       "0                  NaN                 NaN  40.865682 -73.923501   \n",
       "1                  NaN                 NaN  40.775945 -73.915094   \n",
       "2                  NaN                 NaN  40.870325 -73.888525   \n",
       "3                  NaN                 NaN  40.835994 -73.828379   \n",
       "4                  NaN                 NaN  40.733060 -73.874170   \n",
       "...                ...                 ...        ...        ...   \n",
       "300693             NaN                 NaN        NaN        NaN   \n",
       "300694             NaN                 NaN  40.694077 -73.846087   \n",
       "300695             NaN                 NaN  40.699590 -73.944234   \n",
       "300696             NaN                 NaN  40.837708 -73.834587   \n",
       "300697             NaN                 NaN  40.760583 -73.985922   \n",
       "\n",
       "                                        Location Request_Closing_Time  \\\n",
       "0        (40.86568153633767, -73.92350095571744)      0 days 00:55:15   \n",
       "1       (40.775945312321085, -73.91509393898605)      0 days 01:26:16   \n",
       "2       (40.870324522111424, -73.88852464418646)      0 days 04:51:31   \n",
       "3        (40.83599404683083, -73.82837939584206)      0 days 07:45:14   \n",
       "4       (40.733059618956815, -73.87416975810375)      0 days 03:27:02   \n",
       "...                                          ...                  ...   \n",
       "300693                                       NaN                  NaT   \n",
       "300694    (40.69407728322387, -73.8460866160573)      0 days 02:00:31   \n",
       "300695   (40.69959035300927, -73.94423377144169)      0 days 03:07:17   \n",
       "300696    (40.8377075854206, -73.83458731019586)      0 days 04:05:33   \n",
       "300697   (40.76058322950115, -73.98592204392392)      0 days 04:08:49   \n",
       "\n",
       "       Request_Closing_Time_Hours Request_Closing_Time_Seconds  \n",
       "0                             1.0                       3315.0  \n",
       "1                             2.0                       5176.0  \n",
       "2                             5.0                      17491.0  \n",
       "3                             8.0                      27914.0  \n",
       "4                             4.0                      12422.0  \n",
       "...                           ...                          ...  \n",
       "300693                        NaN                          NaN  \n",
       "300694                        3.0                       7231.0  \n",
       "300695                        4.0                      11237.0  \n",
       "300696                        5.0                      14733.0  \n",
       "300697                        5.0                      14929.0  \n",
       "\n",
       "[300698 rows x 56 columns]"
      ]
     },
     "execution_count": 125,
     "metadata": {},
     "output_type": "execute_result"
    }
   ],
   "source": [
    "df"
   ]
  },
  {
   "cell_type": "code",
   "execution_count": 88,
   "id": "ad6635db",
   "metadata": {},
   "outputs": [
    {
     "data": {
      "text/plain": [
       "Index(['Unique Key', 'Created Date', 'Closed Date', 'Agency', 'Agency Name',\n",
       "       'Complaint Type', 'Descriptor', 'Location Type', 'Incident Zip',\n",
       "       'Incident Address', 'Street Name', 'Cross Street 1', 'Cross Street 2',\n",
       "       'Intersection Street 1', 'Intersection Street 2', 'Address Type',\n",
       "       'City', 'Landmark', 'Facility Type', 'Status', 'Due Date',\n",
       "       'Resolution Description', 'Resolution Action Updated Date',\n",
       "       'Community Board', 'Borough', 'X Coordinate (State Plane)',\n",
       "       'Y Coordinate (State Plane)', 'Park Facility Name', 'Park Borough',\n",
       "       'School Name', 'School Number', 'School Region', 'School Code',\n",
       "       'School Phone Number', 'School Address', 'School City', 'School State',\n",
       "       'School Zip', 'School Not Found', 'School or Citywide Complaint',\n",
       "       'Vehicle Type', 'Taxi Company Borough', 'Taxi Pick Up Location',\n",
       "       'Bridge Highway Name', 'Bridge Highway Direction', 'Road Ramp',\n",
       "       'Bridge Highway Segment', 'Garage Lot Name', 'Ferry Direction',\n",
       "       'Ferry Terminal Name', 'Latitude', 'Longitude', 'Location',\n",
       "       'Request_Closing_Time', 'Request_Closing_Time_Hours',\n",
       "       'Request_Closing_Time_Seconds'],\n",
       "      dtype='object')"
      ]
     },
     "execution_count": 88,
     "metadata": {},
     "output_type": "execute_result"
    }
   ],
   "source": [
    "df.columns"
   ]
  },
  {
   "cell_type": "code",
   "execution_count": null,
   "id": "ee7a9da8",
   "metadata": {},
   "outputs": [],
   "source": [
    "# 3. Provide major insights/patterns that you can offer in a visual format (graphs or tables); at least 4 major conclusions that you can come up with after generic data mining."
   ]
  },
  {
   "cell_type": "code",
   "execution_count": 8,
   "id": "e0855420",
   "metadata": {},
   "outputs": [
    {
     "data": {
      "text/html": [
       "<div>\n",
       "<style scoped>\n",
       "    .dataframe tbody tr th:only-of-type {\n",
       "        vertical-align: middle;\n",
       "    }\n",
       "\n",
       "    .dataframe tbody tr th {\n",
       "        vertical-align: top;\n",
       "    }\n",
       "\n",
       "    .dataframe thead th {\n",
       "        text-align: right;\n",
       "    }\n",
       "</style>\n",
       "<table border=\"1\" class=\"dataframe\">\n",
       "  <thead>\n",
       "    <tr style=\"text-align: right;\">\n",
       "      <th></th>\n",
       "      <th>Status</th>\n",
       "    </tr>\n",
       "  </thead>\n",
       "  <tbody>\n",
       "    <tr>\n",
       "      <th>0</th>\n",
       "      <td>Closed</td>\n",
       "    </tr>\n",
       "    <tr>\n",
       "      <th>1</th>\n",
       "      <td>Closed</td>\n",
       "    </tr>\n",
       "    <tr>\n",
       "      <th>2</th>\n",
       "      <td>Closed</td>\n",
       "    </tr>\n",
       "    <tr>\n",
       "      <th>3</th>\n",
       "      <td>Closed</td>\n",
       "    </tr>\n",
       "    <tr>\n",
       "      <th>4</th>\n",
       "      <td>Closed</td>\n",
       "    </tr>\n",
       "    <tr>\n",
       "      <th>...</th>\n",
       "      <td>...</td>\n",
       "    </tr>\n",
       "    <tr>\n",
       "      <th>300693</th>\n",
       "      <td>Open</td>\n",
       "    </tr>\n",
       "    <tr>\n",
       "      <th>300694</th>\n",
       "      <td>Closed</td>\n",
       "    </tr>\n",
       "    <tr>\n",
       "      <th>300695</th>\n",
       "      <td>Closed</td>\n",
       "    </tr>\n",
       "    <tr>\n",
       "      <th>300696</th>\n",
       "      <td>Closed</td>\n",
       "    </tr>\n",
       "    <tr>\n",
       "      <th>300697</th>\n",
       "      <td>Closed</td>\n",
       "    </tr>\n",
       "  </tbody>\n",
       "</table>\n",
       "<p>300698 rows × 1 columns</p>\n",
       "</div>"
      ],
      "text/plain": [
       "        Status\n",
       "0       Closed\n",
       "1       Closed\n",
       "2       Closed\n",
       "3       Closed\n",
       "4       Closed\n",
       "...        ...\n",
       "300693    Open\n",
       "300694  Closed\n",
       "300695  Closed\n",
       "300696  Closed\n",
       "300697  Closed\n",
       "\n",
       "[300698 rows x 1 columns]"
      ]
     },
     "execution_count": 8,
     "metadata": {},
     "output_type": "execute_result"
    }
   ],
   "source": [
    "#1. status Analysis\n",
    "df[['Status']]"
   ]
  },
  {
   "cell_type": "code",
   "execution_count": 18,
   "id": "707b7b3f",
   "metadata": {},
   "outputs": [
    {
     "data": {
      "text/plain": [
       "<AxesSubplot:>"
      ]
     },
     "execution_count": 18,
     "metadata": {},
     "output_type": "execute_result"
    },
    {
     "data": {
      "image/png": "[encoded data removed]",
      "text/plain": [
       "<Figure size 432x288 with 1 Axes>"
      ]
     },
     "metadata": {
      "needs_background": "light"
     },
     "output_type": "display_data"
    }
   ],
   "source": [
    "df['Status'].value_counts().plot(kind='line')"
   ]
  },
  {
   "cell_type": "markdown",
   "id": "e28f731a",
   "metadata": {},
   "source": [
    "Conclusion:\n",
    "From the above plot, we can analyse that the status of complaints is mostly closed."
   ]
  },
  {
   "cell_type": "code",
   "execution_count": 135,
   "id": "d250dfae",
   "metadata": {},
   "outputs": [
    {
     "data": {
      "text/plain": [
       "Complaint Type         \n",
       "Blocked Driveway           77044\n",
       "Illegal Parking            75361\n",
       "Noise - Street/Sidewalk    48612\n",
       "Noise - Commercial         35577\n",
       "Derelict Vehicle           17718\n",
       "dtype: int64"
      ]
     },
     "execution_count": 135,
     "metadata": {},
     "output_type": "execute_result"
    }
   ],
   "source": [
    "#2. complaint types\n",
    "df[['Complaint Type']].value_counts().fillna(0).head()"
   ]
  },
  {
   "cell_type": "code",
   "execution_count": 110,
   "id": "17ffe5fc",
   "metadata": {
    "scrolled": true
   },
   "outputs": [
    {
     "data": {
      "text/plain": [
       "<AxesSubplot:>"
      ]
     },
     "execution_count": 110,
     "metadata": {},
     "output_type": "execute_result"
    },
    {
     "data": {
      "image/png": "[encoded data removed]",
      "text/plain": [
       "<Figure size 432x288 with 1 Axes>"
      ]
     },
     "metadata": {
      "needs_background": "light"
     },
     "output_type": "display_data"
    }
   ],
   "source": [
    "# plotting the complaint types\n",
    "df['Complaint Type'].value_counts().plot(kind='bar')"
   ]
  },
  {
   "cell_type": "markdown",
   "id": "4207a324",
   "metadata": {},
   "source": [
    " Conclusion:\n",
    " From ablove graph, we can analyse that, Blocked Driveway is the Maximum Complaint type followed by Illegal Parking"
   ]
  },
  {
   "cell_type": "code",
   "execution_count": 111,
   "id": "193d49e8",
   "metadata": {
    "scrolled": true
   },
   "outputs": [
    {
     "data": {
      "text/plain": [
       "<AxesSubplot:>"
      ]
     },
     "execution_count": 111,
     "metadata": {},
     "output_type": "execute_result"
    },
    {
     "data": {
      "image/png": "[encoded data removed]",
      "text/plain": [
       "<Figure size 432x288 with 1 Axes>"
      ]
     },
     "metadata": {
      "needs_background": "light"
     },
     "output_type": "display_data"
    }
   ],
   "source": [
    "# 3. Top 10 Location Type\n",
    "df['Location Type'].value_counts().head(10).plot(kind='bar')\n"
   ]
  },
  {
   "cell_type": "markdown",
   "id": "32f3b4e1",
   "metadata": {},
   "source": [
    "Conclusion:\n",
    "We can see that the Location Type of Street/Sidewalk is a lot more than any other locations"
   ]
  },
  {
   "cell_type": "code",
   "execution_count": 136,
   "id": "373e7742",
   "metadata": {},
   "outputs": [
    {
     "data": {
      "text/plain": [
       "<AxesSubplot:title={'center':'Top 10 Descriptors'}>"
      ]
     },
     "execution_count": 136,
     "metadata": {},
     "output_type": "execute_result"
    },
    {
     "data": {
      "image/png": "[encoded data removed]",
      "text/plain": [
       "<Figure size 720x360 with 1 Axes>"
      ]
     },
     "metadata": {
      "needs_background": "light"
     },
     "output_type": "display_data"
    }
   ],
   "source": [
    "# 4. plotting top 10 Descriptors\n",
    "df['Descriptor'].value_counts().head(10).plot(kind='bar', figsize=(10,5), title='Top 10 Descriptors')"
   ]
  },
  {
   "cell_type": "markdown",
   "id": "c4d75439",
   "metadata": {},
   "source": [
    "Conclusion:\n",
    "Loud Music/Party is the maximum descriptor for the complaints followed by No Access, Posted Parking Sign Violation and Loud Taking."
   ]
  },
  {
   "cell_type": "code",
   "execution_count": 113,
   "id": "a6a15462",
   "metadata": {},
   "outputs": [
    {
     "data": {
      "text/html": [
       "<div>\n",
       "<style scoped>\n",
       "    .dataframe tbody tr th:only-of-type {\n",
       "        vertical-align: middle;\n",
       "    }\n",
       "\n",
       "    .dataframe tbody tr th {\n",
       "        vertical-align: top;\n",
       "    }\n",
       "\n",
       "    .dataframe thead th {\n",
       "        text-align: right;\n",
       "    }\n",
       "</style>\n",
       "<table border=\"1\" class=\"dataframe\">\n",
       "  <thead>\n",
       "    <tr style=\"text-align: right;\">\n",
       "      <th></th>\n",
       "      <th>Request_Closing_Time</th>\n",
       "      <th>Request_Closing_Time_Hours</th>\n",
       "    </tr>\n",
       "  </thead>\n",
       "  <tbody>\n",
       "    <tr>\n",
       "      <th>0</th>\n",
       "      <td>0 days 00:55:15</td>\n",
       "      <td>1.0</td>\n",
       "    </tr>\n",
       "    <tr>\n",
       "      <th>1</th>\n",
       "      <td>0 days 01:26:16</td>\n",
       "      <td>2.0</td>\n",
       "    </tr>\n",
       "    <tr>\n",
       "      <th>2</th>\n",
       "      <td>0 days 04:51:31</td>\n",
       "      <td>5.0</td>\n",
       "    </tr>\n",
       "    <tr>\n",
       "      <th>3</th>\n",
       "      <td>0 days 07:45:14</td>\n",
       "      <td>8.0</td>\n",
       "    </tr>\n",
       "    <tr>\n",
       "      <th>4</th>\n",
       "      <td>0 days 03:27:02</td>\n",
       "      <td>4.0</td>\n",
       "    </tr>\n",
       "    <tr>\n",
       "      <th>5</th>\n",
       "      <td>0 days 01:53:30</td>\n",
       "      <td>2.0</td>\n",
       "    </tr>\n",
       "    <tr>\n",
       "      <th>6</th>\n",
       "      <td>0 days 01:57:28</td>\n",
       "      <td>2.0</td>\n",
       "    </tr>\n",
       "    <tr>\n",
       "      <th>7</th>\n",
       "      <td>0 days 01:47:55</td>\n",
       "      <td>2.0</td>\n",
       "    </tr>\n",
       "    <tr>\n",
       "      <th>8</th>\n",
       "      <td>0 days 08:33:02</td>\n",
       "      <td>9.0</td>\n",
       "    </tr>\n",
       "    <tr>\n",
       "      <th>9</th>\n",
       "      <td>0 days 01:23:02</td>\n",
       "      <td>2.0</td>\n",
       "    </tr>\n",
       "  </tbody>\n",
       "</table>\n",
       "</div>"
      ],
      "text/plain": [
       "  Request_Closing_Time  Request_Closing_Time_Hours\n",
       "0      0 days 00:55:15                         1.0\n",
       "1      0 days 01:26:16                         2.0\n",
       "2      0 days 04:51:31                         5.0\n",
       "3      0 days 07:45:14                         8.0\n",
       "4      0 days 03:27:02                         4.0\n",
       "5      0 days 01:53:30                         2.0\n",
       "6      0 days 01:57:28                         2.0\n",
       "7      0 days 01:47:55                         2.0\n",
       "8      0 days 08:33:02                         9.0\n",
       "9      0 days 01:23:02                         2.0"
      ]
     },
     "execution_count": 113,
     "metadata": {},
     "output_type": "execute_result"
    }
   ],
   "source": [
    "# 4. Ordered complaint types based on the average ‘Request_Closing_Time’, grouping them for different locations.\n",
    "df['Request_Closing_Time_Hours'] = df['Request_Closing_Time'].astype('timedelta64[h]')+1\n",
    "df[['Request_Closing_Time', 'Request_Closing_Time_Hours']].head(10)"
   ]
  },
  {
   "cell_type": "code",
   "execution_count": 114,
   "id": "f7192626",
   "metadata": {},
   "outputs": [
    {
     "data": {
      "text/plain": [
       "Location Type        Complaint Type     \n",
       "Bridge               Homeless Encampment    4.000000\n",
       "Club/Bar/Restaurant  Drinking               5.054795\n",
       "                     Noise - Commercial     3.579122\n",
       "                     Urinating in Public    8.476190\n",
       "Commercial           Animal Abuse           5.790323\n",
       "Ferry                Ferry Complaint        0.000000\n",
       "Highway              Derelict Vehicle       8.692308\n",
       "                     Homeless Encampment    3.733333\n",
       "                     Traffic                3.951613\n",
       "House and Store      Animal Abuse           5.505376\n",
       "Name: Request_Closing_Time_Hours, dtype: float64"
      ]
     },
     "execution_count": 114,
     "metadata": {},
     "output_type": "execute_result"
    }
   ],
   "source": [
    "# Ordering the complaint types based on the average ‘Request_Closing_Time’ in Hours\n",
    "avg_time_hr = df.groupby(['Location Type', 'Complaint Type'])['Request_Closing_Time_Hours'].mean().fillna(0)\n",
    "avg_time_hr.head(10)"
   ]
  },
  {
   "cell_type": "code",
   "execution_count": 115,
   "id": "49e5949a",
   "metadata": {
    "scrolled": true
   },
   "outputs": [
    {
     "data": {
      "text/plain": [
       "Complaint Type\n",
       "Posting Advertisement          2.504630\n",
       "Illegal Fireworks              3.309524\n",
       "Noise - Commercial             3.662241\n",
       "Noise - House of Worship       3.719053\n",
       "Noise - Park                   3.930383\n",
       "Noise - Street/Sidewalk        3.960916\n",
       "Traffic                        3.965080\n",
       "Disorderly Youth               4.048951\n",
       "Noise - Vehicle                4.102096\n",
       "Urinating in Public            4.136824\n",
       "Bike/Roller/Skate Chronic      4.275943\n",
       "Drinking                       4.368627\n",
       "Vending                        4.520685\n",
       "Squeegee                       4.750000\n",
       "Panhandling                    4.855738\n",
       "Homeless Encampment            4.868659\n",
       "Illegal Parking                5.010197\n",
       "Blocked Driveway               5.243106\n",
       "Agency Issues                  5.666667\n",
       "Animal Abuse                   5.716787\n",
       "Graffiti                       7.654867\n",
       "Derelict Vehicle               7.877530\n",
       "Animal in a Park             337.000000\n",
       "Ferry Complaint                0.000000\n",
       "Name: Request_Closing_Time_Hours, dtype: float64"
      ]
     },
     "execution_count": 115,
     "metadata": {},
     "output_type": "execute_result"
    }
   ],
   "source": [
    "# 5. Perform a statistical test for the following:\n",
    "# Average response Time\n",
    "avg_response_time = df.groupby(['Complaint Type']).Request_Closing_Time_Hours.mean().sort_values(ascending=True).fillna(0)\n",
    "avg_response_time"
   ]
  },
  {
   "cell_type": "code",
   "execution_count": null,
   "id": "059ac9b0",
   "metadata": {},
   "outputs": [],
   "source": []
  },
  {
   "cell_type": "markdown",
   "id": "8ef9007e",
   "metadata": {},
   "source": [
    "We can state Null Hypothesis as:\n",
    "Ho= Average response time across complaint types is similar(overall) and \n",
    "Alternate Hypothesis as:\n",
    "Ha= Average response time across complaint types is not similar(overall).\n",
    "\n",
    "By analysing average response time, we reject Ho, as the Average Response Time for different complaint types are different."
   ]
  },
  {
   "cell_type": "markdown",
   "id": "b747e5a1",
   "metadata": {},
   "source": [
    "Hypothesis Testing"
   ]
  },
  {
   "cell_type": "markdown",
   "id": "1ee30e55",
   "metadata": {},
   "source": [
    "Consider alpha value = 0.05 \n",
    "if p < alpha(0.05) : Reject Null Hypothesis, and average response time is not same\n",
    "if p > alpha(0.05) : Accept Null Hypothesis, and average response time is same \n",
    "\n"
   ]
  },
  {
   "cell_type": "code",
   "execution_count": 116,
   "id": "6a939911",
   "metadata": {},
   "outputs": [],
   "source": [
    "# to calculate the p-value, log of time taken to close the complaint per complaint is taken\n",
    "data = {}\n",
    "for i in df['Complaint Type'].unique():\n",
    "    data[i] = np.log(df[df['Complaint Type']==i]['Request_Closing_Time_Seconds']).fillna(0)"
   ]
  },
  {
   "cell_type": "code",
   "execution_count": 117,
   "id": "7251c64b",
   "metadata": {},
   "outputs": [
    {
     "data": {
      "text/plain": [
       "dict_keys(['Noise - Street/Sidewalk', 'Blocked Driveway', 'Illegal Parking', 'Derelict Vehicle', 'Noise - Commercial', 'Noise - House of Worship', 'Posting Advertisement', 'Noise - Vehicle', 'Animal Abuse', 'Vending', 'Traffic', 'Drinking', 'Bike/Roller/Skate Chronic', 'Panhandling', 'Noise - Park', 'Homeless Encampment', 'Urinating in Public', 'Graffiti', 'Disorderly Youth', 'Illegal Fireworks', 'Ferry Complaint', 'Agency Issues', 'Squeegee', 'Animal in a Park'])"
      ]
     },
     "execution_count": 117,
     "metadata": {},
     "output_type": "execute_result"
    }
   ],
   "source": [
    "data.keys()"
   ]
  },
  {
   "cell_type": "code",
   "execution_count": 118,
   "id": "e0cd383e",
   "metadata": {},
   "outputs": [
    {
     "name": "stdout",
     "output_type": "stream",
     "text": [
      "1.4364149813360876\n",
      "1.1005402736045282\n",
      "1.4371545750850838\n",
      "1.4923441531747266\n",
      "1.37493401846567\n",
      "1.2406844195951965\n",
      "1.3022687088747782\n",
      "1.178525428738795\n",
      "1.0948212516864952\n",
      "1.1764240510128974\n",
      "1.1971014604587908\n",
      "1.186124359254504\n",
      "1.3854276481116723\n",
      "1.2889796633382262\n",
      "1.2765041256311471\n",
      "1.029599636356674\n",
      "1.1014217806369104\n",
      "1.0644915295126962\n",
      "1.0391354996982083\n",
      "1.209130623777313\n",
      "0.0\n",
      "0.8290650703337749\n",
      "0.8483234982177722\n",
      "nan\n"
     ]
    }
   ],
   "source": [
    "# Calculate Standard Deviation\n",
    "for i in data.keys():\n",
    "    print(data[i].std())"
   ]
  },
  {
   "cell_type": "code",
   "execution_count": 108,
   "id": "45d5582c",
   "metadata": {},
   "outputs": [
    {
     "name": "stdout",
     "output_type": "stream",
     "text": [
      "Statistics= 1867.83, p = 0.00\n",
      "Reject Ho\n"
     ]
    }
   ],
   "source": [
    "# import f_oneway from scipy.stats library\n",
    "from scipy.stats import f_oneway\n",
    "# consider top 5 complaints\n",
    "stat, p = f_oneway(data['Blocked Driveway'], data['Illegal Parking'], data['Noise - Street/Sidewalk'],\n",
    "                   data['Derelict Vehicle'], data['Noise - Commercial'])\n",
    "print('Statistics= %.2f, p = %.2f' % (stat, p))\n",
    "\n",
    "alpha = 0.05\n",
    "if p > alpha:\n",
    "    print('Accpet Ho')\n",
    "else:\n",
    "    print('Reject Ho')"
   ]
  },
  {
   "cell_type": "markdown",
   "id": "64134377",
   "metadata": {},
   "source": [
    "Conclusion:\n",
    "Since our p-value is lower than our critical p-value, we will conclude that we have enough evidence to reject our Null Hypothesis and Average response time for all the complaints type is not same.\n",
    "\n",
    " "
   ]
  },
  {
   "cell_type": "markdown",
   "id": "7f6e4985",
   "metadata": {},
   "source": [
    "For relation between Complaint Type and Location"
   ]
  },
  {
   "cell_type": "code",
   "execution_count": 137,
   "id": "0b8cfc93",
   "metadata": {},
   "outputs": [],
   "source": [
    "city_type = pd.crosstab(df['Location Type'], df['Complaint Type'])"
   ]
  },
  {
   "cell_type": "code",
   "execution_count": 138,
   "id": "c60872b3",
   "metadata": {},
   "outputs": [
    {
     "data": {
      "text/html": [
       "<div>\n",
       "<style scoped>\n",
       "    .dataframe tbody tr th:only-of-type {\n",
       "        vertical-align: middle;\n",
       "    }\n",
       "\n",
       "    .dataframe tbody tr th {\n",
       "        vertical-align: top;\n",
       "    }\n",
       "\n",
       "    .dataframe thead th {\n",
       "        text-align: right;\n",
       "    }\n",
       "</style>\n",
       "<table border=\"1\" class=\"dataframe\">\n",
       "  <thead>\n",
       "    <tr style=\"text-align: right;\">\n",
       "      <th>Complaint Type</th>\n",
       "      <th>Animal Abuse</th>\n",
       "      <th>Animal in a Park</th>\n",
       "      <th>Bike/Roller/Skate Chronic</th>\n",
       "      <th>Blocked Driveway</th>\n",
       "      <th>Derelict Vehicle</th>\n",
       "      <th>Disorderly Youth</th>\n",
       "      <th>Drinking</th>\n",
       "      <th>Ferry Complaint</th>\n",
       "      <th>Graffiti</th>\n",
       "      <th>Homeless Encampment</th>\n",
       "      <th>...</th>\n",
       "      <th>Noise - House of Worship</th>\n",
       "      <th>Noise - Park</th>\n",
       "      <th>Noise - Street/Sidewalk</th>\n",
       "      <th>Noise - Vehicle</th>\n",
       "      <th>Panhandling</th>\n",
       "      <th>Posting Advertisement</th>\n",
       "      <th>Squeegee</th>\n",
       "      <th>Traffic</th>\n",
       "      <th>Urinating in Public</th>\n",
       "      <th>Vending</th>\n",
       "    </tr>\n",
       "    <tr>\n",
       "      <th>Location Type</th>\n",
       "      <th></th>\n",
       "      <th></th>\n",
       "      <th></th>\n",
       "      <th></th>\n",
       "      <th></th>\n",
       "      <th></th>\n",
       "      <th></th>\n",
       "      <th></th>\n",
       "      <th></th>\n",
       "      <th></th>\n",
       "      <th></th>\n",
       "      <th></th>\n",
       "      <th></th>\n",
       "      <th></th>\n",
       "      <th></th>\n",
       "      <th></th>\n",
       "      <th></th>\n",
       "      <th></th>\n",
       "      <th></th>\n",
       "      <th></th>\n",
       "      <th></th>\n",
       "    </tr>\n",
       "  </thead>\n",
       "  <tbody>\n",
       "    <tr>\n",
       "      <th>Bridge</th>\n",
       "      <td>0</td>\n",
       "      <td>0</td>\n",
       "      <td>0</td>\n",
       "      <td>0</td>\n",
       "      <td>0</td>\n",
       "      <td>0</td>\n",
       "      <td>0</td>\n",
       "      <td>0</td>\n",
       "      <td>0</td>\n",
       "      <td>2</td>\n",
       "      <td>...</td>\n",
       "      <td>0</td>\n",
       "      <td>0</td>\n",
       "      <td>0</td>\n",
       "      <td>0</td>\n",
       "      <td>0</td>\n",
       "      <td>0</td>\n",
       "      <td>0</td>\n",
       "      <td>0</td>\n",
       "      <td>0</td>\n",
       "      <td>0</td>\n",
       "    </tr>\n",
       "    <tr>\n",
       "      <th>Club/Bar/Restaurant</th>\n",
       "      <td>0</td>\n",
       "      <td>0</td>\n",
       "      <td>0</td>\n",
       "      <td>0</td>\n",
       "      <td>0</td>\n",
       "      <td>0</td>\n",
       "      <td>366</td>\n",
       "      <td>0</td>\n",
       "      <td>0</td>\n",
       "      <td>0</td>\n",
       "      <td>...</td>\n",
       "      <td>0</td>\n",
       "      <td>0</td>\n",
       "      <td>0</td>\n",
       "      <td>0</td>\n",
       "      <td>0</td>\n",
       "      <td>0</td>\n",
       "      <td>0</td>\n",
       "      <td>0</td>\n",
       "      <td>21</td>\n",
       "      <td>0</td>\n",
       "    </tr>\n",
       "    <tr>\n",
       "      <th>Commercial</th>\n",
       "      <td>62</td>\n",
       "      <td>0</td>\n",
       "      <td>0</td>\n",
       "      <td>0</td>\n",
       "      <td>0</td>\n",
       "      <td>0</td>\n",
       "      <td>0</td>\n",
       "      <td>0</td>\n",
       "      <td>0</td>\n",
       "      <td>0</td>\n",
       "      <td>...</td>\n",
       "      <td>0</td>\n",
       "      <td>0</td>\n",
       "      <td>0</td>\n",
       "      <td>0</td>\n",
       "      <td>0</td>\n",
       "      <td>0</td>\n",
       "      <td>0</td>\n",
       "      <td>0</td>\n",
       "      <td>0</td>\n",
       "      <td>0</td>\n",
       "    </tr>\n",
       "    <tr>\n",
       "      <th>Ferry</th>\n",
       "      <td>0</td>\n",
       "      <td>0</td>\n",
       "      <td>0</td>\n",
       "      <td>0</td>\n",
       "      <td>0</td>\n",
       "      <td>0</td>\n",
       "      <td>0</td>\n",
       "      <td>1</td>\n",
       "      <td>0</td>\n",
       "      <td>0</td>\n",
       "      <td>...</td>\n",
       "      <td>0</td>\n",
       "      <td>0</td>\n",
       "      <td>0</td>\n",
       "      <td>0</td>\n",
       "      <td>0</td>\n",
       "      <td>0</td>\n",
       "      <td>0</td>\n",
       "      <td>0</td>\n",
       "      <td>0</td>\n",
       "      <td>0</td>\n",
       "    </tr>\n",
       "    <tr>\n",
       "      <th>Highway</th>\n",
       "      <td>0</td>\n",
       "      <td>0</td>\n",
       "      <td>0</td>\n",
       "      <td>0</td>\n",
       "      <td>14</td>\n",
       "      <td>0</td>\n",
       "      <td>0</td>\n",
       "      <td>0</td>\n",
       "      <td>0</td>\n",
       "      <td>15</td>\n",
       "      <td>...</td>\n",
       "      <td>0</td>\n",
       "      <td>0</td>\n",
       "      <td>0</td>\n",
       "      <td>0</td>\n",
       "      <td>0</td>\n",
       "      <td>0</td>\n",
       "      <td>0</td>\n",
       "      <td>186</td>\n",
       "      <td>0</td>\n",
       "      <td>0</td>\n",
       "    </tr>\n",
       "  </tbody>\n",
       "</table>\n",
       "<p>5 rows × 23 columns</p>\n",
       "</div>"
      ],
      "text/plain": [
       "Complaint Type       Animal Abuse  Animal in a Park  \\\n",
       "Location Type                                         \n",
       "Bridge                          0                 0   \n",
       "Club/Bar/Restaurant             0                 0   \n",
       "Commercial                     62                 0   \n",
       "Ferry                           0                 0   \n",
       "Highway                         0                 0   \n",
       "\n",
       "Complaint Type       Bike/Roller/Skate Chronic  Blocked Driveway  \\\n",
       "Location Type                                                      \n",
       "Bridge                                       0                 0   \n",
       "Club/Bar/Restaurant                          0                 0   \n",
       "Commercial                                   0                 0   \n",
       "Ferry                                        0                 0   \n",
       "Highway                                      0                 0   \n",
       "\n",
       "Complaint Type       Derelict Vehicle  Disorderly Youth  Drinking  \\\n",
       "Location Type                                                       \n",
       "Bridge                              0                 0         0   \n",
       "Club/Bar/Restaurant                 0                 0       366   \n",
       "Commercial                          0                 0         0   \n",
       "Ferry                               0                 0         0   \n",
       "Highway                            14                 0         0   \n",
       "\n",
       "Complaint Type       Ferry Complaint  Graffiti  Homeless Encampment  ...  \\\n",
       "Location Type                                                        ...   \n",
       "Bridge                             0         0                    2  ...   \n",
       "Club/Bar/Restaurant                0         0                    0  ...   \n",
       "Commercial                         0         0                    0  ...   \n",
       "Ferry                              1         0                    0  ...   \n",
       "Highway                            0         0                   15  ...   \n",
       "\n",
       "Complaint Type       Noise - House of Worship  Noise - Park  \\\n",
       "Location Type                                                 \n",
       "Bridge                                      0             0   \n",
       "Club/Bar/Restaurant                         0             0   \n",
       "Commercial                                  0             0   \n",
       "Ferry                                       0             0   \n",
       "Highway                                     0             0   \n",
       "\n",
       "Complaint Type       Noise - Street/Sidewalk  Noise - Vehicle  Panhandling  \\\n",
       "Location Type                                                                \n",
       "Bridge                                     0                0            0   \n",
       "Club/Bar/Restaurant                        0                0            0   \n",
       "Commercial                                 0                0            0   \n",
       "Ferry                                      0                0            0   \n",
       "Highway                                    0                0            0   \n",
       "\n",
       "Complaint Type       Posting Advertisement  Squeegee  Traffic  \\\n",
       "Location Type                                                   \n",
       "Bridge                                   0         0        0   \n",
       "Club/Bar/Restaurant                      0         0        0   \n",
       "Commercial                               0         0        0   \n",
       "Ferry                                    0         0        0   \n",
       "Highway                                  0         0      186   \n",
       "\n",
       "Complaint Type       Urinating in Public  Vending  \n",
       "Location Type                                      \n",
       "Bridge                                 0        0  \n",
       "Club/Bar/Restaurant                   21        0  \n",
       "Commercial                             0        0  \n",
       "Ferry                                  0        0  \n",
       "Highway                                0        0  \n",
       "\n",
       "[5 rows x 23 columns]"
      ]
     },
     "execution_count": 138,
     "metadata": {},
     "output_type": "execute_result"
    }
   ],
   "source": [
    "city_type.head()"
   ]
  },
  {
   "cell_type": "code",
   "execution_count": 139,
   "id": "d52f25b5",
   "metadata": {},
   "outputs": [],
   "source": [
    "# Perform Chi square test\n",
    "from scipy.stats import chi2_contingency\n",
    "from scipy.stats import chi2\n"
   ]
  },
  {
   "cell_type": "code",
   "execution_count": 140,
   "id": "8e1a59a9",
   "metadata": {},
   "outputs": [],
   "source": [
    "observed_data = city_type \n",
    "stat, p, dof, expected_data = chi2_contingency(observed_data)"
   ]
  },
  {
   "cell_type": "code",
   "execution_count": 141,
   "id": "b493962b",
   "metadata": {},
   "outputs": [
    {
     "name": "stdout",
     "output_type": "stream",
     "text": [
      "The Degrees of Freedom are : 374\n",
      "The P-Value of the Testing is 0.0: \n",
      "Expected values : \n",
      "\n",
      "[[5.17355531e-02 6.65409044e-06 2.84129662e-03 5.12411542e-01\n",
      "  1.17843942e-01 1.90306986e-03 8.51058167e-03 1.33081809e-05\n",
      "  7.51912219e-04 2.93245766e-02 1.11788719e-03 5.01226016e-01\n",
      "  2.36692651e-01 6.18165001e-03 2.68891795e-02 3.23395449e-01\n",
      "  1.13651865e-01 2.04280576e-03 4.31850469e-03 2.66163617e-05\n",
      "  2.98968283e-02 3.93256745e-03 2.52855437e-02]\n",
      " [4.49064601e+02 5.77575050e-02 2.46624546e+01 4.44773219e+03\n",
      "  1.02288541e+03 1.65186464e+01 7.38718489e+01 1.15515010e-01\n",
      "  6.52659806e+00 2.54537324e+02 9.70326084e+00 4.35064182e+03\n",
      "  2.05449221e+03 5.36567221e+01 2.33398078e+02 2.80707250e+03\n",
      "  9.86498185e+02 1.77315540e+01 3.74846207e+01 2.31030020e-01\n",
      "  2.59504470e+02 3.41346854e+01 2.19478519e+02]\n",
      " [1.60380215e+00 2.06276804e-04 8.80801951e-02 1.58847578e+01\n",
      "  3.65316219e+00 5.89951658e-02 2.63828032e-01 4.12553607e-04\n",
      "  2.33092788e-02 9.09061873e-01 3.46545030e-02 1.55380065e+01\n",
      "  7.33747218e+00 1.91631150e-01 8.33564563e-01 1.00252589e+01\n",
      "  3.52320780e+00 6.33269787e-02 1.33873645e-01 8.25107214e-04\n",
      "  9.26801678e-01 1.21909591e-01 7.83851853e-01]\n",
      " [2.58677766e-02 3.32704522e-06 1.42064831e-03 2.56205771e-01\n",
      "  5.89219708e-02 9.51534932e-04 4.25529083e-03 6.65409044e-06\n",
      "  3.75956110e-04 1.46622883e-02 5.58943597e-04 2.50613008e-01\n",
      "  1.18346325e-01 3.09082501e-03 1.34445897e-02 1.61697725e-01\n",
      "  5.68259323e-02 1.02140288e-03 2.15925235e-03 1.33081809e-05\n",
      "  1.49484142e-02 1.96628372e-03 1.26427718e-02]\n",
      " [5.56157196e+00 7.15314722e-04 3.05439386e-01 5.50842408e+01\n",
      "  1.26682237e+01 2.04580010e-01 9.14887529e-01 1.43062944e-03\n",
      "  8.08305636e-02 3.15239198e+00 1.20172873e-01 5.38817967e+01\n",
      "  2.54444600e+01 6.64527377e-01 2.89058679e+00 3.47650108e+01\n",
      "  1.22175754e+01 2.19601620e-01 4.64239254e-01 2.86125889e-03\n",
      "  3.21390905e+00 4.22751001e-01 2.71819594e+00]\n",
      " [2.40570322e+00 3.09415205e-04 1.32120293e-01 2.38271367e+01\n",
      "  5.47974329e+00 8.84927487e-02 3.95742048e-01 6.18830411e-04\n",
      "  3.49639182e-02 1.36359281e+00 5.19817545e-02 2.33070098e+01\n",
      "  1.10062083e+01 2.87446726e-01 1.25034684e+00 1.50378884e+01\n",
      "  5.28481171e+00 9.49904680e-02 2.00810468e-01 1.23766082e-03\n",
      "  1.39020252e+00 1.82864386e-01 1.17577778e+00]\n",
      " [2.40311644e+01 3.09082501e-03 1.31978228e+00 2.38015161e+02\n",
      "  5.47385109e+01 8.83975952e-01 3.95316518e+00 6.18165001e-03\n",
      "  3.49263226e-01 1.36212658e+01 5.19258601e-01 2.32819485e+02\n",
      "  1.09943736e+02 2.87137643e+00 1.24900239e+01 1.50217186e+02\n",
      "  5.27912911e+01 9.48883277e-01 2.00594543e+00 1.23633000e-02\n",
      "  1.38870768e+01 1.82667758e+00 1.17451350e+01]\n",
      " [2.58677766e-02 3.32704522e-06 1.42064831e-03 2.56205771e-01\n",
      "  5.89219708e-02 9.51534932e-04 4.25529083e-03 6.65409044e-06\n",
      "  3.75956110e-04 1.46622883e-02 5.58943597e-04 2.50613008e-01\n",
      "  1.18346325e-01 3.09082501e-03 1.34445897e-02 1.61697725e-01\n",
      "  5.68259323e-02 1.02140288e-03 2.15925235e-03 1.33081809e-05\n",
      "  1.49484142e-02 1.96628372e-03 1.26427718e-02]\n",
      " [1.23466898e+02 1.58799868e-02 6.78075437e+00 1.22287015e+03\n",
      "  2.81234567e+02 4.54167623e+00 2.03105031e+01 3.17599736e-02\n",
      "  1.79443851e+00 6.99831019e+01 2.66783779e+00 1.19617589e+03\n",
      "  5.64867011e+02 1.47525078e+01 6.41710268e+01 7.71783240e+02\n",
      "  2.71230175e+02 4.87515596e+00 1.03061114e+01 6.35199473e-02\n",
      "  7.13487808e+01 9.38507221e+00 6.03439499e+01]\n",
      " [3.02652986e+00 3.89264290e-04 1.66215852e-01 2.99760752e+01\n",
      "  6.89387058e+00 1.11329587e-01 4.97869028e-01 7.78528581e-04\n",
      "  4.39868648e-02 1.71548773e+00 6.53964008e-02 2.93217219e+01\n",
      "  1.38465201e+01 3.61626526e-01 1.57301700e+00 1.89186338e+01\n",
      "  6.64863408e+00 1.19504137e-01 2.52632525e-01 1.55705716e-03\n",
      "  1.74896446e+00 2.30055196e-01 1.47920430e+00]\n",
      " [5.87198528e+00 7.55239264e-04 3.22487166e-01 5.81587100e+01\n",
      "  1.33752874e+01 2.15998430e-01 9.65951019e-01 1.51047853e-03\n",
      "  8.53420369e-02 3.32833944e+00 1.26880196e-01 5.68891528e+01\n",
      "  2.68646159e+01 7.01617277e-01 3.05192187e+00 3.67053835e+01\n",
      "  1.28994866e+01 2.31858454e-01 4.90150283e-01 3.02095706e-03\n",
      "  3.39329002e+00 4.46346405e-01 2.86990920e+00]\n",
      " [1.80039725e+02 2.31562347e-02 9.88771222e+00 1.78319217e+03\n",
      "  4.10096917e+02 6.62268313e+00 2.96168242e+01 4.63124694e-02\n",
      "  2.61665452e+00 1.02049526e+02 3.89024743e+00 1.74426654e+03\n",
      "  8.23690425e+02 2.15121421e+01 9.35743445e+01 1.12541616e+03\n",
      "  3.95508489e+02 7.10896406e+00 1.50283963e+01 9.26249389e-02\n",
      "  1.04040963e+02 1.36853347e+01 8.79936919e+01]\n",
      " [9.05372180e-01 1.16446583e-04 4.97226908e-02 8.96720199e+00\n",
      "  2.06226898e+00 3.33037226e-02 1.48935179e-01 2.32893165e-04\n",
      "  1.31584638e-02 5.13180090e-01 1.95630259e-02 8.77145528e+00\n",
      "  4.14212139e+00 1.08178875e-01 4.70560640e-01 5.65942036e+00\n",
      "  1.98890763e+00 3.57491009e-02 7.55738321e-02 4.65786331e-04\n",
      "  5.23194496e-01 6.88199303e-02 4.42497014e-01]\n",
      " [5.27211154e+02 6.78085086e-02 2.89542332e+01 5.22172982e+03\n",
      "  1.20088869e+03 1.93932335e+01 8.67270825e+01 1.35617017e-01\n",
      "  7.66236147e+00 2.98832097e+02 1.13918294e+01 5.10774372e+03\n",
      "  2.41201646e+03 6.29941045e+01 2.74014183e+02 3.29556133e+03\n",
      "  1.15816933e+03 2.08172121e+01 4.40077221e+01 2.71234034e-01\n",
      "  3.04663629e+02 4.00748286e+01 2.57672333e+02]\n",
      " [6.44881083e+03 8.29429046e-01 3.54166203e+02 6.38718425e+04\n",
      "  1.46891884e+04 2.37216707e+02 1.06083975e+03 1.65885809e+00\n",
      "  9.37254822e+01 3.65529380e+03 1.39344080e+02 6.24775723e+04\n",
      "  2.95036206e+04 7.70539584e+02 3.35172277e+03 4.03110811e+04\n",
      "  1.41666481e+04 2.54634717e+02 5.38299451e+02 3.31771618e+00\n",
      "  3.72662470e+03 4.90192566e+02 3.15183037e+03]\n",
      " [8.79504403e-01 1.13119537e-04 4.83020425e-02 8.71099622e+00\n",
      "  2.00334701e+00 3.23521877e-02 1.44679888e-01 2.26239075e-04\n",
      "  1.27825077e-02 4.98517801e-01 1.90040823e-02 8.52084227e+00\n",
      "  4.02377507e+00 1.05088050e-01 4.57116051e-01 5.49772264e+00\n",
      "  1.93208170e+00 3.47276980e-02 7.34145798e-02 4.52478150e-04\n",
      "  5.08246082e-01 6.68536466e-02 4.29854242e-01]\n",
      " [2.58677766e-02 3.32704522e-06 1.42064831e-03 2.56205771e-01\n",
      "  5.89219708e-02 9.51534932e-04 4.25529083e-03 6.65409044e-06\n",
      "  3.75956110e-04 1.46622883e-02 5.58943597e-04 2.50613008e-01\n",
      "  1.18346325e-01 3.09082501e-03 1.34445897e-02 1.61697725e-01\n",
      "  5.68259323e-02 1.02140288e-03 2.15925235e-03 1.33081809e-05\n",
      "  1.49484142e-02 1.96628372e-03 1.26427718e-02]\n",
      " [1.99181880e+00 2.56182482e-04 1.09389920e-01 1.97278444e+01\n",
      "  4.53699175e+00 7.32681898e-02 3.27657394e-01 5.12364964e-04\n",
      "  2.89486204e-02 1.12899620e+00 4.30386569e-02 1.92972016e+01\n",
      "  9.11266706e+00 2.37993526e-01 1.03523341e+00 1.24507248e+01\n",
      "  4.37559679e+00 7.86480219e-02 1.66262431e-01 1.02472993e-03\n",
      "  1.15102789e+00 1.51403847e-01 9.73493431e-01]]\n"
     ]
    }
   ],
   "source": [
    "print('The Degrees of Freedom are : {}'. format(dof))\n",
    "print('The P-Value of the Testing is {}: '.format(p))\n",
    "print('Expected values : \\n')\n",
    "print(expected_data)  "
   ]
  },
  {
   "cell_type": "code",
   "execution_count": 142,
   "id": "56e9116c",
   "metadata": {},
   "outputs": [
    {
     "data": {
      "text/plain": [
       "420.09408303637986"
      ]
     },
     "execution_count": 142,
     "metadata": {},
     "output_type": "execute_result"
    }
   ],
   "source": [
    "prob = 0.95 # as aplha is considered 0.05\n",
    "critical_value = chi2.ppf(prob, dof)\n",
    "critical_value"
   ]
  },
  {
   "cell_type": "code",
   "execution_count": 143,
   "id": "c3a67567",
   "metadata": {},
   "outputs": [
    {
     "name": "stdout",
     "output_type": "stream",
     "text": [
      "Probability = 0.95, Critical Value = 420.09408303637986, Test statistic = 1638407.5805696272\n",
      "\n",
      "Dependent (Reject H0 or Null Hypothesis)\n",
      "Significance : 0.050, P-Value : 0.00\n",
      "Dependent (Reject H0 or Null Hypothesis)\n"
     ]
    }
   ],
   "source": [
    "print('Probability = {}, Critical Value = {}, Test statistic = {}'.format(prob, critical_value, stat))\n",
    "print()\n",
    "if abs(stat) >= critical_value:\n",
    "    print('Dependent (Reject H0 or Null Hypothesis)')\n",
    "else:\n",
    "    print('Independent (Failed to reject Null Hypothesis)')\n",
    "\n",
    "\n",
    "# interpreting the P-Value\n",
    "alpha = 1 - prob\n",
    "print('Significance : %.3f, P-Value : %.2f'%(alpha, p))\n",
    "if p <= alpha:\n",
    "    print('Dependent (Reject H0 or Null Hypothesis)')\n",
    "else:\n",
    "    print('Independent (Failed to reject Null Hypothesis)')"
   ]
  },
  {
   "cell_type": "code",
   "execution_count": null,
   "id": "60f94938",
   "metadata": {},
   "outputs": [],
   "source": []
  }
 ],
 "metadata": {
  "kernelspec": {
   "display_name": "Python 3 (ipykernel)",
   "language": "python",
   "name": "python3"
  },
  "language_info": {
   "codemirror_mode": {
    "name": "ipython",
    "version": 3
   },
   "file_extension": ".py",
   "mimetype": "text/x-python",
   "name": "python",
   "nbconvert_exporter": "python",
   "pygments_lexer": "ipython3",
   "version": "3.9.12"
  }
 },
 "nbformat": 4,
 "nbformat_minor": 5
}
